{
 "cells": [
  {
   "cell_type": "markdown",
   "metadata": {},
   "source": [
    "1. **Daily Quote Generator:** Select a random quote for the day and prints it. Optional: The same quote should be generated for a given day.\n",
    "\n",
    "\tYour task:\n",
    "\t1. Complete the get_quote_of_the_day() function\n",
    "\t2. Print the crontab that would run this script daily at 8:00 AM and append the output to a file\n",
    "\n",
    "\tHint: Look up `random.choice()` to select a random item from a list. You can use the `date` module to get the current date and set a seed for the random number generator.\n"
   ]
  },
  {
   "cell_type": "code",
   "execution_count": 1,
   "metadata": {},
   "outputs": [
    {
     "data": {
      "text/plain": [
       "'Dream it. Wish it. Do it.'"
      ]
     },
     "execution_count": 1,
     "metadata": {},
     "output_type": "execute_result"
    }
   ],
   "source": [
    "# Daily Quote Generator\n",
    "\n",
    "quotes = {\n",
    "    \"1\": \"The only way to do great work is to love what you do.\",\n",
    "    \"2\": \"The best time to plant a tree was 20 years ago. The second best time is now.\",\n",
    "    \"3\": \"Your limitation—it’s only your imagination.\",\n",
    "    \"4\": \"Push yourself, because no one else is going to do it for you.\",\n",
    "    \"5\": \"Great things never come from comfort zones.\",\n",
    "    \"6\": \"Dream it. Wish it. Do it.\",\n",
    "    \"7\": \"Success doesn’t just find you. You have to go out and get it.\",\n",
    "    \"8\": \"The harder you work for something, the greater you’ll feel when you achieve it.\",\n",
    "    \"9\": \"Dream bigger. Do bigger.\",\n",
    "    \"10\": \"Don’t stop when you’re tired. Stop when you’re done.\"\n",
    "}\n",
    "\n",
    "import random\n",
    "\n",
    "def get_quote_of_the_day(quotes):\n",
    "    quote = random.choice(list(quotes.values()))\n",
    "    return quote\n",
    "\n",
    "\n",
    "get_quote_of_the_day(quotes)"
   ]
  },
  {
   "cell_type": "markdown",
   "metadata": {},
   "source": [
    "2. **Word Frequency Counter:** Read a text file (example code included) and count the frequency of each word, ignoring case.\n",
    "\tUsage: `python word_frequency.py <input_file>`  \n",
    "\t\n",
    "\tYour task: Complete the word_frequency() function to count word frequencies sorted alphabetically. Run the script on 'alice_in_wonderland.txt'.\n",
    "\t\n",
    "\tHints:\n",
    "\t- Use a dictionary to store word frequencies\n",
    "\t- Consider using the `lower()` method to ignore case\n",
    "\t- The `split()` method can be useful for splitting text into words\n",
    "\t- Decompress Alice in Wonderland before running the script on it\n"
   ]
  },
  {
   "cell_type": "code",
   "execution_count": null,
   "metadata": {},
   "outputs": [],
   "source": []
  },
  {
   "cell_type": "markdown",
   "metadata": {},
   "source": [
    "3. **Maximum Product of 13 Adjacent Digits:** Find the thirteen adjacent digits in the 1000-digit number that have the greatest product. What is the value of this product?\n",
    "\t\n",
    "\tYour task: Complete the find_greatest_product() function to solve the problem.\n",
    "\t\n",
    "\tHints:\n",
    "\t- You can iterate through the string using a for loop and string slicing\n",
    "\t- Keep track of the maximum product as you go through the loooong number\n",
    "\t- (Optional) Convert characters to integers using `int()`\n",
    "\n",
    "```\n",
    "73167176531330624919225119674426574742355349194934\n",
    "96983520312774506326239578318016984801869478851843\n",
    "85861560789112949495459501737958331952853208805511\n",
    "12540698747158523863050715693290963295227443043557\n",
    "66896648950445244523161731856403098711121722383113\n",
    "62229893423380308135336276614282806444486645238749\n",
    "30358907296290491560440772390713810515859307960866\n",
    "70172427121883998797908792274921901699720888093776\n",
    "65727333001053367881220235421809751254540594752243\n",
    "52584907711670556013604839586446706324415722155397\n",
    "53697817977846174064955149290862569321978468622482\n",
    "83972241375657056057490261407972968652414535100474\n",
    "82166370484403199890008895243450658541227588666881\n",
    "16427171479924442928230863465674813919123162824586\n",
    "17866458359124566529476545682848912883142607690042\n",
    "24219022671055626321111109370544217506941658960408\n",
    "07198403850962455444362981230987879927244284909188\n",
    "84580156166097919133875499200524063689912560717606\n",
    "05886116467109405077541002256983155200055935729725\n",
    "71636269561882670428252483600823257530420752963450\n",
    "```\n"
   ]
  },
  {
   "cell_type": "code",
   "execution_count": null,
   "metadata": {},
   "outputs": [],
   "source": []
  },
  {
   "cell_type": "markdown",
   "metadata": {},
   "source": [
    "1. **Fibonacci Sequence**: Create a program that generates Fibonacci numbers less than a limit and writes them to a file. The _Fibonacci_ sequence is a sequence in which each number is the sum of the two preceding ones: \n",
    "\t`0, 1, 1 (0+1), 2 (1+1), 3 (2+1), 5 (3+2), ...`\n",
    "\t- Use a function to generate Fibonacci numbers as a list\n",
    "\t- Use `with` statements for file operations\n",
    "\t- Handle potential file I/O errors with `try`/`except`\n",
    "\t- Use command-line arguments (via `argparse`) to specify the upper limit and output file name\n",
    "\t- **Task: Generate the Fibonacci numbers less than 100 and write them to `fibonacci_100.txt`\n"
   ]
  },
  {
   "cell_type": "code",
   "execution_count": null,
   "metadata": {},
   "outputs": [],
   "source": []
  },
  {
   "cell_type": "markdown",
   "metadata": {},
   "source": [
    "2. **Largest Prime Fibonacci Number:** Write a program that takes a number as an argument, finds the *Fibonacci* numbers less than that number, and prints the largest prime number in the list. \n",
    "\t- Use command-line arguments to specify the upper limit \n",
    "\t- Implement a function to check if a number is prime\n",
    "\t- Import and use the Fibonacci generating function from problem 1 as a module\n",
    "\t- **Task: Find the largest prime Fibonacci number less that 50000**"
   ]
  },
  {
   "cell_type": "markdown",
   "metadata": {},
   "source": []
  }
 ],
 "metadata": {
  "kernelspec": {
   "display_name": "Python 3",
   "language": "python",
   "name": "python3"
  },
  "language_info": {
   "codemirror_mode": {
    "name": "ipython",
    "version": 3
   },
   "file_extension": ".py",
   "mimetype": "text/x-python",
   "name": "python",
   "nbconvert_exporter": "python",
   "pygments_lexer": "ipython3",
   "version": "3.12.1"
  }
 },
 "nbformat": 4,
 "nbformat_minor": 2
}
