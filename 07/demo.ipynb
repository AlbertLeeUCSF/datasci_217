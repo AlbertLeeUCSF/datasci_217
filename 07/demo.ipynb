{
 "cells": [
  {
   "cell_type": "markdown",
   "metadata": {},
   "source": [
    "# Table of Contents\n",
    "1. `matplotlib` \n",
    "2. `pandas`  \n",
    "3. `seaborn` \n",
    "4. `plotnine` \n",
    "5. `plotly` `dash` \n",
    "6. `streamlit` \n"
   ]
  },
  {
   "cell_type": "code",
   "execution_count": null,
   "metadata": {},
   "outputs": [],
   "source": [
    "# Install packages if you haven't already\n",
    "\n",
    "# %pip install matplotlib pandas seaborn plotnine plotly dash streamlit"
   ]
  },
  {
   "cell_type": "markdown",
   "metadata": {},
   "source": [
    "\n",
    "## `matplotlib`"
   ]
  },
  {
   "cell_type": "code",
   "execution_count": null,
   "metadata": {},
   "outputs": [],
   "source": [
    "\n",
    "### Basic Line Plot\n",
    "\n",
    "import matplotlib.pyplot as plt\n",
    "\n",
    "# Data\n",
    "years = [2010, 2012, 2014, 2016, 2018, 2020]\n",
    "patients = [150, 180, 200, 230, 260, 300]\n",
    "\n",
    "# Create line plot\n",
    "plt.plot(years, patients, marker='o', linestyle='-', color='b', label='Patients')\n",
    "\n",
    "# Add labels and title\n",
    "plt.xlabel('Year')\n",
    "plt.ylabel('Number of Patients')\n",
    "plt.title('Number of Patients Over Years')\n",
    "\n",
    "# Add legend\n",
    "plt.legend()\n",
    "\n",
    "# Show plot\n",
    "plt.show()"
   ]
  },
  {
   "cell_type": "markdown",
   "metadata": {},
   "source": [
    "### Scatter Plot"
   ]
  },
  {
   "cell_type": "code",
   "execution_count": null,
   "metadata": {},
   "outputs": [],
   "source": [
    "# Data\n",
    "age = [25, 35, 45, 20, 30, 40, 50, 60]\n",
    "blood_pressure = [120, 130, 125, 115, 135, 140, 150, 145]\n",
    "\n",
    "# Create scatter plot\n",
    "plt.scatter(age, blood_pressure, c='red', alpha=0.7)\n",
    "\n",
    "# Add labels and title\n",
    "plt.xlabel('Age')\n",
    "plt.ylabel('Blood Pressure')\n",
    "plt.title('Blood Pressure vs Age')\n",
    "\n",
    "# Show plot\n",
    "plt.show()"
   ]
  },
  {
   "cell_type": "markdown",
   "metadata": {},
   "source": [
    "\n",
    "## `pandas` \n",
    "\n",
    "### Line Plot\n"
   ]
  },
  {
   "cell_type": "code",
   "execution_count": null,
   "metadata": {},
   "outputs": [],
   "source": [
    "import pandas as pd\n",
    "\n",
    "# Load data\n",
    "df = pd.DataFrame({\n",
    "    'Year': [2016, 2017, 2018, 2019, 2020],\n",
    "    'Admissions': [500, 550, 600, 650, 700]\n",
    "})\n",
    "\n",
    "# Plot data\n",
    "df.plot(x='Year', y='Admissions', kind='line', marker='o', title='Yearly Hospital Admissions')\n",
    "\n",
    "# Add labels\n",
    "plt.xlabel('Year')\n",
    "plt.ylabel('Number of Admissions')\n",
    "\n",
    "# Show plot\n",
    "plt.show()"
   ]
  },
  {
   "cell_type": "markdown",
   "metadata": {},
   "source": [
    "### Histogram"
   ]
  },
  {
   "cell_type": "code",
   "execution_count": null,
   "metadata": {},
   "outputs": [],
   "source": [
    "# Load data\n",
    "df = pd.DataFrame({\n",
    "    'Age': [25, 30, 35, 40, 45, 50, 55, 60, 65, 70]\n",
    "})\n",
    "\n",
    "# Plot histogram\n",
    "df['Age'].hist(bins=10, color='skyblue', alpha=0.7)\n",
    "\n",
    "# Add labels and title\n",
    "plt.xlabel('Age')\n",
    "plt.ylabel('Number of Patients')\n",
    "plt.title('Age Distribution of Patients')\n",
    "\n",
    "# Show plot\n",
    "plt.show()"
   ]
  },
  {
   "cell_type": "markdown",
   "metadata": {},
   "source": [
    "## `seaborn`\n",
    "\n",
    "### Scatter Plot"
   ]
  },
  {
   "cell_type": "code",
   "execution_count": null,
   "metadata": {},
   "outputs": [],
   "source": [
    "import seaborn as sns\n",
    "import pandas as pd\n",
    "\n",
    "# Load dataset\n",
    "df = pd.DataFrame({\n",
    "    'BMI': [22, 25, 28, 24, 27, 26, 23, 29],\n",
    "    'BloodPressure': [120, 130, 125, 115, 135, 140, 118, 145],\n",
    "    'AgeGroup': ['20-30', '30-40', '40-50', '20-30', '30-40', '40-50', '20-30', '40-50']\n",
    "})\n",
    "\n",
    "# Create scatter plot\n",
    "sns.scatterplot(x='BMI', y='BloodPressure', hue='AgeGroup', data=df)\n",
    "\n",
    "# Add title\n",
    "plt.title('Blood Pressure vs BMI by Age Group')\n",
    "\n",
    "# Show plot\n",
    "plt.show()"
   ]
  },
  {
   "cell_type": "markdown",
   "metadata": {},
   "source": [
    "## `plotnine`"
   ]
  },
  {
   "cell_type": "code",
   "execution_count": null,
   "metadata": {},
   "outputs": [],
   "source": [
    "from plotnine import ggplot, aes, geom_point, ggtitle, geom_smooth\n",
    "import pandas as pd\n",
    "\n",
    "# Sample data\n",
    "df = pd.DataFrame({\n",
    "    'BMI': [22, 25, 28, 24, 27],\n",
    "    'BloodPressure': [120, 130, 125, 118, 135]\n",
    "})\n",
    "\n",
    "# Create plot\n",
    "plot = (ggplot(df, aes(x='BMI', y='BloodPressure'))\n",
    "        + geom_point(color='blue')\n",
    "        + geom_smooth(method='lm')\n",
    "        + ggtitle('Blood Pressure vs BMI with Regression Line'))\n",
    "\n",
    "print(plot)"
   ]
  },
  {
   "cell_type": "markdown",
   "metadata": {},
   "source": [
    "## `plotly dash`"
   ]
  },
  {
   "cell_type": "code",
   "execution_count": null,
   "metadata": {},
   "outputs": [],
   "source": [
    "# Save this cell as a script and run it with `python <script-name>.py`\n",
    "\n",
    "import dash\n",
    "from dash import dcc, html\n",
    "from dash.dependencies import Input, Output\n",
    "import plotly.express as px\n",
    "import pandas as pd\n",
    "\n",
    "# Load data\n",
    "df = pd.DataFrame({\n",
    "    'BMI': [22, 25, 28, 24, 27, 26, 23, 29],\n",
    "    'BloodPressure': [120, 130, 125, 115, 135, 140, 118, 145],\n",
    "    'AgeGroup': ['20-30', '30-40', '40-50', '20-30', '30-40', '40-50', '20-30', '40-50']\n",
    "})\n",
    "\n",
    "# Initialize the app\n",
    "app = dash.Dash(__name__)\n",
    "\n",
    "# Define the layout\n",
    "app.layout = html.Div([\n",
    "    html.H1('Health Data Dashboard'),\n",
    "    dcc.Dropdown(\n",
    "        id='age-dropdown',\n",
    "        options=[{'label': age, 'value': age} for age in df['AgeGroup'].unique()],\n",
    "        value=df['AgeGroup'].unique()[0]\n",
    "    ),\n",
    "    dcc.Graph(id='bmi-bloodpressure-scatter')\n",
    "])\n",
    "\n",
    "# Define the callback\n",
    "@app.callback(\n",
    "    Output('bmi-bloodpressure-scatter', 'figure'),\n",
    "    [Input('age-dropdown', 'value')]\n",
    ")\n",
    "def update_graph(selected_age):\n",
    "    filtered_df = df[df['AgeGroup'] == selected_age]\n",
    "    fig = px.scatter(\n",
    "        filtered_df, x='BMI', y='BloodPressure',\n",
    "        title=f'BMI vs Blood Pressure for Age Group {selected_age}'\n",
    "    )\n",
    "    return fig\n",
    "\n",
    "# Run the app\n",
    "if __name__ == '__main__':\n",
    "    app.run_server(debug=True)"
   ]
  },
  {
   "cell_type": "markdown",
   "metadata": {},
   "source": [
    "## `streamlit`"
   ]
  },
  {
   "cell_type": "code",
   "execution_count": null,
   "metadata": {},
   "outputs": [],
   "source": [
    "# Save this cell as a script and run it with `streamlit run <script-name>.py`\n",
    "\n",
    "import streamlit as st\n",
    "import pandas as pd\n",
    "import plotly.express as px\n",
    "\n",
    "# Load data\n",
    "df = pd.DataFrame({\n",
    "    'BMI': [22, 25, 28, 24, 27, 26, 23, 29],\n",
    "    'BloodPressure': [120, 130, 125, 115, 135, 140, 118, 145],\n",
    "    'AgeGroup': ['20-30', '30-40', '40-50', '20-30', '30-40', '40-50', '20-30', '40-50']\n",
    "})\n",
    "\n",
    "# App title\n",
    "st.title('Health Data Explorer')\n",
    "\n",
    "# Sidebar filters\n",
    "age_group = st.sidebar.selectbox('Select Age Group', df['AgeGroup'].unique())\n",
    "\n",
    "# Filtered data\n",
    "filtered_df = df[df['AgeGroup'] == age_group]\n",
    "\n",
    "# Display data\n",
    "st.write(f'Data for Age Group: {age_group}')\n",
    "st.write(filtered_df)\n",
    "\n",
    "# Plot\n",
    "fig = px.scatter(filtered_df, x='BMI', y='BloodPressure',\n",
    "                 title=f'BMI vs Blood Pressure for Age Group {age_group}')\n",
    "st.plotly_chart(fig)\n"
   ]
  },
  {
   "cell_type": "code",
   "execution_count": null,
   "metadata": {},
   "outputs": [],
   "source": []
  }
 ],
 "metadata": {
  "kernelspec": {
   "display_name": ".venv",
   "language": "python",
   "name": "python3"
  },
  "language_info": {
   "codemirror_mode": {
    "name": "ipython",
    "version": 3
   },
   "file_extension": ".py",
   "mimetype": "text/x-python",
   "name": "python",
   "nbconvert_exporter": "python",
   "pygments_lexer": "ipython3",
   "version": "3.12.7"
  }
 },
 "nbformat": 4,
 "nbformat_minor": 2
}
